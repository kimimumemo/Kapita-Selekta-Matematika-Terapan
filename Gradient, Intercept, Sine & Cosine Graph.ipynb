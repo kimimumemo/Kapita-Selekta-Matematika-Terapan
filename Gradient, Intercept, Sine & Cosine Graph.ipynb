{
  "nbformat": 4,
  "nbformat_minor": 0,
  "metadata": {
    "colab": {
      "name": "PR1_Kimberley Blessinda.ipynb",
      "provenance": [],
      "collapsed_sections": [],
      "authorship_tag": "ABX9TyOW2Ho09psy70Lv0mjl5DGn",
      "include_colab_link": true
    },
    "kernelspec": {
      "name": "python3",
      "display_name": "Python 3"
    },
    "language_info": {
      "name": "python"
    }
  },
  "cells": [
    {
      "cell_type": "markdown",
      "metadata": {
        "id": "view-in-github",
        "colab_type": "text"
      },
      "source": [
        "<a href=\"https://colab.research.google.com/github/kimimumemo/Kapita-Selekta-Matematika-Terapan/blob/main/Gradient%2C%20Intercept%2C%20Sine%20%26%20Cosine%20Graph.ipynb\" target=\"_parent\"><img src=\"https://colab.research.google.com/assets/colab-badge.svg\" alt=\"Open In Colab\"/></a>"
      ]
    },
    {
      "cell_type": "markdown",
      "metadata": {
        "id": "I1aR5iuVyyrh"
      },
      "source": [
        "* Nama: Kimberley Blessinda  \n",
        "* NPM: 6161801028\n"
      ]
    },
    {
      "cell_type": "markdown",
      "metadata": {
        "id": "v7T6LX53sAEE"
      },
      "source": [
        "# Exercise 1"
      ]
    },
    {
      "cell_type": "markdown",
      "metadata": {
        "id": "lCNb0_C_z5DY"
      },
      "source": [
        "\n",
        "A line of best fit is a straight line that best approximates a collection of n data points.\n",
        "In this exercise, we will assume that each point in the collection has an x coordinate\n",
        "and a $y$ coordinate. The symbols $\\bar{x}$ and $\\bar{y}$ are used to represent the average $x$ value in\n",
        "the collection and the average $y$ value in the collection respectively. The line of best\n",
        "fit is represented by the equation $y = mx + b$ where $m$ and $b$ are calculated using\n",
        "the following formulas:\n",
        "\n",
        "\\begin{equation}\n",
        "m = \\frac{\\sum xy -\\frac{(\\sum x)(\\sum y)}{n}}{\\sum x^2 -\\frac{(\\sum x)^2}{n}}\n",
        "\\end{equation}\n",
        "\n",
        "\\begin{equation}\n",
        "b = \\bar{y} -m \\bar{x}\n",
        "\\end{equation}\n",
        "\n",
        "Write a program that reads a collection of points from the user. The user will enter\n",
        "the first $x$ coordinate on its own line, followed by the first $y$ coordinate on its own\n",
        "line. Allow the user to continue entering coordinates, with the $x$ and $y$ values each\n",
        "entered on their own line, until your program reads a blank line for the x coordinate.\n",
        "Display the formula for the line of best fit in the form $y = mx + b$ by replacing $m$\n",
        "and b with the values calculated by the preceding formulas. For example, if the user\n",
        "inputs the coordinates $(1, 1), (2, 2.1)$ and $(3, 2.9)$ then your program should display\n",
        "$y = 0.95x + 0.1$. Additionally, plot the program using Matplotlib"
      ]
    },
    {
      "cell_type": "markdown",
      "metadata": {
        "id": "bUBSiGbkUSyn"
      },
      "source": [
        "## Load the dependencies"
      ]
    },
    {
      "cell_type": "code",
      "metadata": {
        "id": "rHemp3S-Qu3B"
      },
      "source": [
        "from statistics import mean\n",
        "import matplotlib.pyplot as plt"
      ],
      "execution_count": null,
      "outputs": []
    },
    {
      "cell_type": "markdown",
      "metadata": {
        "id": "VtfJsCRAUtJ4"
      },
      "source": [
        "## Input"
      ]
    },
    {
      "cell_type": "code",
      "metadata": {
        "id": "5q1i8KzDUf3h"
      },
      "source": [
        "n = int(input(\"Banyak input koordinat (dalam bilangan bulat): \"))\n",
        "x = []\n",
        "y = []\n",
        "for i in range(n):\n",
        "  x.append(float(input(\"Tentukan bilangan untuk koordinat x (bilangan riil): \")))\n",
        "  y.append(float(input(\"Tentukan bilangan untuk koordinat y (bilangan riil): \")))"
      ],
      "execution_count": null,
      "outputs": []
    },
    {
      "cell_type": "code",
      "metadata": {
        "id": "TuFnj8JEX1-3"
      },
      "source": [
        "print(\"Berikut merupakan titik-titik koordinat yang telah Anda input\")\n",
        "for i in range(n):\n",
        "  print(\"Koordinat {} = ({},{})\".format(i+1,x[i],y[i]))"
      ],
      "execution_count": null,
      "outputs": []
    },
    {
      "cell_type": "markdown",
      "metadata": {
        "id": "IH7tUtxoYM3u"
      },
      "source": [
        "## Calculate Gradient (*m*)\n",
        "Using the following formulas:\n",
        "\\begin{equation}\n",
        "m = \\frac{\\sum xy -\\frac{(\\sum x)(\\sum y)}{n}}{\\sum x^2 -\\frac{(\\sum x)^2}{n}}\n",
        "\\end{equation}\n"
      ]
    },
    {
      "cell_type": "code",
      "metadata": {
        "id": "VJihM25EYJaW"
      },
      "source": [
        "# Definisikan variabel yang dibutuhkan.\n",
        "sum_xy = 0\n",
        "sum_x = 0\n",
        "sum_y = 0\n",
        "sum_of_x_sq = 0   # Sumasi dari x^{2}.\n",
        "sq_sum_of_x = 1   # Kuadrat dari sumasi x."
      ],
      "execution_count": null,
      "outputs": []
    },
    {
      "cell_type": "code",
      "metadata": {
        "id": "JK27ijTTOW4t"
      },
      "source": [
        "for j,k in zip(x,y):\n",
        "  sum_x += j\n",
        "  sum_y += k\n",
        "  sum_xy += j*k\n",
        "  sum_of_x_sq += j**2\n",
        "\n",
        "sq_sum_of_x = sum_x**2"
      ],
      "execution_count": null,
      "outputs": []
    },
    {
      "cell_type": "code",
      "metadata": {
        "id": "VX0Cm_b0P5fb"
      },
      "source": [
        "# Formulasikan gradien\n",
        "m = round((((sum_xy)-(sum_x*sum_y/n))/((sum_of_x_sq)-(sq_sum_of_x/n))),2)"
      ],
      "execution_count": null,
      "outputs": []
    },
    {
      "cell_type": "markdown",
      "metadata": {
        "id": "qgyEKwhsjN6r"
      },
      "source": [
        "## Calculate Intercept (*b*)\n",
        "Using the following formulas:\n",
        "\\begin{equation}\n",
        "b = \\bar{y} -m \\bar{x}\n",
        "\\end{equation}"
      ]
    },
    {
      "cell_type": "code",
      "metadata": {
        "id": "kb6pN7AHjFHY"
      },
      "source": [
        "mean_y = mean(y) # Mencari rata-rata dari y.\n",
        "mean_x = mean(x) # Mencari rata-rata dari x.\n",
        "\n",
        "b = round((mean_y - m*(mean_x)), 2)"
      ],
      "execution_count": null,
      "outputs": []
    },
    {
      "cell_type": "markdown",
      "metadata": {
        "id": "YQ7_GAu3koo7"
      },
      "source": [
        "## Plot"
      ]
    },
    {
      "cell_type": "code",
      "metadata": {
        "id": "3m1TnUTskw-_"
      },
      "source": [
        "# Menghitung y baru berdasarkan m dan b.\n",
        "y_plot = []\n",
        "for i in range(n):\n",
        "  y_new = m*x[i] + b\n",
        "  y_plot.append(y_new)"
      ],
      "execution_count": null,
      "outputs": []
    },
    {
      "cell_type": "code",
      "metadata": {
        "id": "kg5ZtsXwwqOd"
      },
      "source": [
        "fig, ax = plt.subplots(1, 3, figsize=(21,6)) \n",
        "ax[0].plot(x, y, c='darkviolet', lw=2) # Menghasilkan garis dari input koordinat titik yang diberikan.\n",
        "ax[0].set_xlabel('x', size=15)\n",
        "ax[0].set_ylabel('y', size=15)\n",
        "ax[0].title.set_text('Collection of Points')\n",
        "\n",
        "ax[1].plot(x, y_plot, c='green', lw=2) # Menghasilkan garis dari persamaan y = mx+b.\n",
        "ax[1].set_xlabel('x', size=15)\n",
        "ax[1].set_ylabel('y', size=15)\n",
        "ax[1].title.set_text('Best Fit Line')\n",
        "\n",
        "ax[2].plot(x, y_plot, c='green', lw=2, label='Best Fit Line')\n",
        "ax[2].plot(x, y, c='darkviolet', lw=2, label='Collection of Points') \n",
        "ax[2].set_xlabel('x', size=15)\n",
        "ax[2].set_ylabel('y', size=15)\n",
        "ax[2].title.set_text('Comparison')\n",
        "\n",
        "fig.legend(loc='right')\n",
        "fig.show()"
      ],
      "execution_count": null,
      "outputs": []
    },
    {
      "cell_type": "markdown",
      "metadata": {
        "id": "qrV0X928Cqyc"
      },
      "source": [
        "# Exercise 2"
      ]
    },
    {
      "cell_type": "markdown",
      "metadata": {
        "id": "uK5CHJd1z6sA"
      },
      "source": [
        "**Exercise 2**\n",
        "\n",
        "Given a function of $\\sin(x)$ where x in $[0, 2\\pi]$. Make a simulation (plot) that a ball move from $x=0$ until $x=2\\pi$ above the sin graph. Hint: Here the examples:\n",
        "\n",
        "\n",
        "<center>  <img src = \"https://i.imgur.com/AJehOhB.png\" align = \"center\"> <img src = \"https://i.imgur.com/i6eOSDQ.png\" align = \"center\"> <img src = \"https://i.imgur.com/RJZc1RY.png\" align = \"center\"> <img src = \"https://i.imgur.com/P0pYQMq.png\" align = \"center\"></center> "
      ]
    },
    {
      "cell_type": "markdown",
      "metadata": {
        "id": "-IIsMqodOqvG"
      },
      "source": [
        "## Load the dependencies"
      ]
    },
    {
      "cell_type": "code",
      "metadata": {
        "id": "cHVTZAH5zmMg"
      },
      "source": [
        "%matplotlib inline"
      ],
      "execution_count": null,
      "outputs": []
    },
    {
      "cell_type": "code",
      "metadata": {
        "id": "IIcVpkXp0r5n"
      },
      "source": [
        "import numpy as np\n",
        "import matplotlib.pyplot as plt\n",
        "import matplotlib.path as mpath\n",
        "import matplotlib.image as mpimg\n",
        "\n",
        "from matplotlib import animation, rc\n",
        "from IPython.display import HTML\n",
        "from matplotlib.animation import FuncAnimation\n",
        "from matplotlib.offsetbox import OffsetImage, AnnotationBbox\n",
        "from matplotlib.offsetbox import TextArea, DrawingArea, OffsetImage, AnnotationBbox\n"
      ],
      "execution_count": null,
      "outputs": []
    },
    {
      "cell_type": "markdown",
      "metadata": {
        "id": "SvCBQSc7Oz-o"
      },
      "source": [
        "## Load custom image for marker point"
      ]
    },
    {
      "cell_type": "code",
      "metadata": {
        "id": "0SEnb1jkMEAy"
      },
      "source": [
        "import sys\n",
        "if 'google.colab' in sys.modules:\n",
        "    import subprocess\n",
        "    subprocess.call('apt-get install subversion'.split())\n",
        "    subprocess.call('svn export https://github.com/kimimumemo/Kapita-Selekta-Matematika-Terapan/trunk/image_clo1.zip'.split())\n",
        "\n",
        "!unzip \"/content/image_clo1.zip\" -d \"/content\""
      ],
      "execution_count": null,
      "outputs": []
    },
    {
      "cell_type": "markdown",
      "metadata": {
        "id": "pG5DwWLnOvev"
      },
      "source": [
        "## Graphing"
      ]
    },
    {
      "cell_type": "code",
      "metadata": {
        "id": "k9QiJiJDq-Mq"
      },
      "source": [
        "# Menyiapkan figur dan subplot pada daerah tempat kerja.\n",
        "fig = plt.figure()\n",
        "ax = fig.add_subplot(111, aspect=1.4)\n",
        "ax.grid()\n",
        "ax.set_xlim([-0.5, 2*np.pi+0.3])\n",
        "ax.set_ylim([-1.5, 1.5])\n",
        "\n",
        "# Menyesuaikan dari soal. \"That a ball (pikachu) move from  𝑥=0  until  𝑥=2𝜋\".\n",
        "start=0\n",
        "stop=2*np.pi\n",
        "steps=32       # Menentukan berapa banyak langkah dari x=0 hingga 𝑥=2𝜋.\n",
        "\n",
        "# Visualisasi grafik sin dari soal.\n",
        "x = np.linspace(start, stop, steps)   \n",
        "y = np.sin(x)\n",
        "\n",
        "# Membuat tumpukan garis yang berwarna-warni dari variabel x dan y yang telah dideklarasikan\n",
        "colors = ['red', 'orange', 'yellow', 'lawngreen','blue', 'darkviolet']\n",
        "top = max(y)\n",
        "lines = []\n",
        "for i in range(len(colors)+1):\n",
        "  spacing=0.06\n",
        "  newline_data = y - top*spacing*i\n",
        "  lines.append(newline_data)\n",
        "for i, c in enumerate(colors):\n",
        "  ax.fill_between(x, lines[i], lines[i+1], facecolor=c)\n",
        "\n",
        "# Membuat ball yang berbentuk titik secara normal,\n",
        "# pikachu, = ax.plot(x_array, y_array, c='black', marker='+')\n",
        "# Perintah di atas hanya digunakan sebagai jalan pemikiran untuk membuat ball dengan gambar.\n",
        "\n",
        "# Mendefinisikan gambar yang sudah diunduh pada cell \"Load custom image for marker point\".\n",
        "img_read = mpimg.imread('/content/pikachu.png')\n",
        "img_box = OffsetImage(img_read, zoom=0.4) \n",
        "\n",
        "# Mendefinisikan sebuah fungsi untuk melakukan animasi ball (pikachu) yang bergerak.\n",
        "def update(x):   \n",
        "  fig.gca()\n",
        "  # pikachu.set_data(x, np.sin(x))\n",
        "  ax.set_title('').set_text('x = {:.1f} pi'.format((x/(np.pi))))\n",
        "  ab = AnnotationBbox(img_box, [x,np.sin(x)], frameon=False)\n",
        "  ax.add_artist(ab)\n",
        "  return \n",
        "\n",
        "# Animasi\n",
        "anim = FuncAnimation(fig, update, frames=x, interval=10000)"
      ],
      "execution_count": null,
      "outputs": []
    },
    {
      "cell_type": "code",
      "metadata": {
        "id": "4KCDmHsVtfVl"
      },
      "source": [
        "# Menampilkan animasi berbentuk video.\n",
        "rc('animation', html='html5')\n",
        "# anim\n",
        "# \"anim\" merupakan perintah untuk menampilkan animasi yang telah terbentuk berupa video.\n",
        "#  Oleh karena format pengumpulan berupa file dengan ekstensi PDF,\n",
        "#  maka saya melampirkan hasil snapshot animasi pada cell berikut."
      ],
      "execution_count": null,
      "outputs": []
    },
    {
      "cell_type": "markdown",
      "metadata": {
        "id": "9PUfV3uqLOUu"
      },
      "source": [
        "."
      ]
    },
    {
      "cell_type": "code",
      "metadata": {
        "id": "zfItM-Is8KGo"
      },
      "source": [
        "# Snapshot dari animasi pada x = {0.0, 0.5, 1.0, 1.5}\n",
        "pika1 = mpimg.imread('/content/0.png')\n",
        "pika2 = mpimg.imread('/content/0.5.png')\n",
        "pika3 = mpimg.imread('/content/1.png')\n",
        "pika4 = mpimg.imread('/content/1.5.png')\n",
        "\n",
        "plt.figure(1, figsize=(15,10), tight_layout=True)\n",
        "plt.suptitle('Snapshot dari animasi\\n', size=20, y=1.03)\n",
        "\n",
        "plt.subplot(221)\n",
        "plt.imshow(pika1)\n",
        "plt.axis('off')\n",
        "\n",
        "plt.subplot(222)\n",
        "plt.imshow(pika2)\n",
        "plt.axis('off')\n",
        "\n",
        "plt.subplot(223)\n",
        "plt.imshow(pika3)\n",
        "plt.axis('off')\n",
        "\n",
        "plt.subplot(224)\n",
        "plt.imshow(pika4)\n",
        "plt.axis('off')\n",
        "\n",
        "plt.show()"
      ],
      "execution_count": null,
      "outputs": []
    }
  ]
}